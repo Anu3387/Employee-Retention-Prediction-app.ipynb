{
 "cells": [
  {
   "cell_type": "code",
   "execution_count": 1,
   "id": "820a3d19-c594-435f-bbdd-6d5d91e62266",
   "metadata": {},
   "outputs": [],
   "source": [
    "#Imports\n",
    "import pandas as pd\n",
    "import streamlit as st\n",
    "import joblib\n",
    "import os\n",
    "\n",
    "\n",
    "\n",
    "\n",
    "\n"
   ]
  },
  {
   "cell_type": "code",
   "execution_count": 5,
   "id": "d9b045f6-962b-4f6c-bf37-af39d81e7180",
   "metadata": {},
   "outputs": [],
   "source": [
    "# App Heading\n",
    "st.title(\"Employee-Retention-Prediction\")\n",
    "st.write(\"Fill your details\")\n",
    "# Form Inputs\n",
    "with st.form(\"Employee-Retention_Form\"):\n",
    "    city = st.selectbox(\"city\", ['city_103' 'city_40' 'city_21' 'city_115' 'city_162' 'city_176''city_160' 'city_46' 'city_61' 'city_114' 'city_13' 'city_159' 'city_102''city_67' 'city_100' 'city_16' 'city_71' 'city_104' 'city_64' 'city_101'\n",
    "          'city_83' 'city_105' 'city_73' 'city_75' 'city_41' 'city_11' 'city_93' 'city_90' 'city_36' 'city_20' 'city_57' 'city_152' 'city_19' 'city_65''city_74' 'city_173' 'city_136' 'city_98' 'city_97' 'city_50' 'city_138''city_82' 'city_157' 'city_89' 'city_150' 'city_70' 'city_175' 'city_94'\n",
    "           'city_28' 'city_59' 'city_165' 'city_145' 'city_142' 'city_26' 'city_12''city_37' 'city_43' 'city_116' 'city_23' 'city_99' 'city_149' 'city_10''city_45' 'city_80' 'city_128' 'city_158' 'city_123' 'city_7' 'city_72''city_106' 'city_143' 'city_78' 'city_109' 'city_24' 'city_134' 'city_48''city_144' 'city_91' 'city_146' 'city_133' 'city_126' 'city_118' 'city_9''city_167' 'city_27' 'city_84' 'city_54' 'city_39' 'city_79' 'city_76''city_77' 'city_81' 'city_131' 'city_44' 'city_117' 'city_155' 'city_33''city_141' 'city_127' 'city_62' 'city_53' 'city_25' 'city_2' 'city_69''city_120' 'city_111' 'city_30' 'city_1' 'city_140' 'city_179' 'city_55'\n",
    "            'city_14' 'city_42' 'city_107' 'city_18' 'city_139' 'city_180' 'city_166''city_121' 'city_129' 'city_8' 'city_31' 'city_171'])\n",
    "   \n",
    "    city_development_index = st.number_input(\"city_development_index\",min_value=0.0)\n",
    "    gender = st.selectbox(\"gender\", [\"Male\",\"Female\",\"Other\"])\n",
    "    relevent_experience = st.selectbox(\"relevent_experience\", ['Has relevent experience','No relevent experience'])\n",
    "    enrolled_university = st.selectbox(\"enrolled_university\", ['no_enrollment','Full time course','Part time course'])\n",
    "    education_level = st.selectbox(\"education_level\", ['Graduate','Masters','High School','Phd', 'Primary School'])\n",
    "    major_discipline = st.selectbox(\"major_discipline\", ['STEM','Business Degree','Arts','Humanities', 'No Major','Other'])\n",
    "    experience = st.number_input(\"experience\",min_value=0.0)\n",
    "    company_size = st.number_input(\"company_size\")\n",
    "    company_type = st.selectbox(\"company_type\", ['Pvt Ltd','Funded Startup', 'Early Stage Startup','Public Sector','NGO','Other'])\n",
    "    last_new_job = st.selectbox(\"last_new_job\", ['1','2','3','4','5','never'])\n",
    "    training_hours = st.number_input(\"training_hours\",min_value=0)\n",
    "   \n",
    " \n",
    "    Submitted = st.form_submit_button(\"Submit\")"
   ]
  },
  {
   "cell_type": "code",
   "execution_count": 3,
   "id": "883ad597-a831-49e4-9a70-75763dfba9e4",
   "metadata": {},
   "outputs": [],
   "source": [
    "# Create DataFrame\n",
    "if Submitted:\n",
    "    input_data = pd.DataFrame([{\n",
    "        \"city\": city,\n",
    "        \"gender\": gender,\n",
    "        \"relevent_experience\": relevent_experience,\n",
    "        \"enrolled_university\": enrolled_university ,\n",
    "        \"education_level\": education_level,\n",
    "        \"major_discipline\": major_discipline,\n",
    "        \"experience\": experience,\n",
    "        \"company_size\": company_size,\n",
    "        \"company_type\": company_type,\n",
    "        \"last_new_job\": last_new_job,\n",
    "        \"training_hours\":training_hours\n",
    "     }])\n",
    "    \n",
    "    prediction = pipeline.predict(input_data)[0]\n",
    "    probability = pipeline.predict_proba(input_data)[0][1]\n",
    "    st.success(f\"Prediction: {'Yes' if prediction == 1 else 'No'}\")\n",
    "    st.write(f\"Employee-Retention-Prediction Probability : {probability*100:.2f}%\")"
   ]
  },
  {
   "cell_type": "code",
   "execution_count": 4,
   "id": "2bac7784-e02d-4652-a4a2-036038a0a015",
   "metadata": {},
   "outputs": [],
   "source": [
    "# Load pipeline\n",
    "model_path = \"lightgbm_model.pkl\"\n",
    "if os.path.exists(model_path):\n",
    "    pipeline = joblib.load(model_path)\n",
    "    st.success(\"MODEL LOADED SUCCESSFULLY\")\n",
    "else:\n",
    "    st.warning(f\"Model file {model_path} does not exist\")"
   ]
  },
  {
   "cell_type": "code",
   "execution_count": null,
   "id": "51fc05c4-4208-4a38-b339-68cbd78ac7d9",
   "metadata": {},
   "outputs": [],
   "source": []
  }
 ],
 "metadata": {
  "kernelspec": {
   "display_name": "Python [conda env:base] *",
   "language": "python",
   "name": "conda-base-py"
  },
  "language_info": {
   "codemirror_mode": {
    "name": "ipython",
    "version": 3
   },
   "file_extension": ".py",
   "mimetype": "text/x-python",
   "name": "python",
   "nbconvert_exporter": "python",
   "pygments_lexer": "ipython3",
   "version": "3.12.7"
  }
 },
 "nbformat": 4,
 "nbformat_minor": 5
}
